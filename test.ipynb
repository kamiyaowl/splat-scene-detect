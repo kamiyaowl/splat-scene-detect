{
 "cells": [
  {
   "cell_type": "markdown",
   "metadata": {},
   "source": [
    "# 作成したモデルでの正誤を一覧にする\n",
    "\n",
    "一旦モデル設計とのコードと分離したかったため、.h5ファイルを読み込んで使用する。"
   ]
  },
  {
   "cell_type": "code",
   "execution_count": 4,
   "metadata": {},
   "outputs": [
    {
     "name": "stderr",
     "output_type": "stream",
     "text": [
      "Using TensorFlow backend.\n"
     ]
    }
   ],
   "source": [
    "import os\n",
    "# CPUの利用を強制する場合\n",
    "os.environ['CUDA_VISIBLE_DEVICES'] = '-1'\n",
    "\n",
    "import shutil\n",
    "import random\n",
    "import tensorflow as tf\n",
    "import keras\n",
    "from keras import Sequential\n",
    "from keras.models import Model\n",
    "from keras.layers import Conv2D, MaxPooling2D, Input, Dense, GlobalAveragePooling2D\n",
    "from keras.preprocessing.image import ImageDataGenerator\n",
    "from keras.callbacks import TensorBoard\n",
    "from keras.optimizers import SGD\n",
    "\n",
    "import numpy as np\n",
    "import matplotlib.pyplot as plt"
   ]
  },
  {
   "cell_type": "code",
   "execution_count": 5,
   "metadata": {},
   "outputs": [],
   "source": [
    "# 環境変数とか\n",
    "\n",
    "# 読み込むモデル\n",
    "model_path = '.\\\\models\\\\vgg16-tuning-50epoch.h5'\n",
    "\n",
    "\n",
    "# 元データ保存先\n",
    "dataset_base_path = '.\\\\splat-scene-dataset'\n",
    "dataset_split_base_path = '.\\\\dataset'\n",
    "tensorboard_log_path = '.\\\\tflog'\n",
    "\n",
    "# 画像設定\n",
    "input_size = (640, 360)\n",
    "input_shape = (640, 360, 3)\n",
    "\n",
    "# データ関係\n",
    "batch_size = 1 # 1回でいい\n",
    "categories_n = 17\n",
    "\n",
    "dataset_train_path = os.path.join(dataset_split_base_path, 'train')\n",
    "dataset_val_path   = os.path.join(dataset_split_base_path, 'val')\n",
    "dataset_test_path  = os.path.join(dataset_split_base_path, 'test')\n",
    "pathes = [dataset_train_path, dataset_val_path, dataset_test_path]"
   ]
  },
  {
   "cell_type": "code",
   "execution_count": 6,
   "metadata": {},
   "outputs": [
    {
     "name": "stdout",
     "output_type": "stream",
     "text": [
      "_________________________________________________________________\n",
      "Layer (type)                 Output Shape              Param #   \n",
      "=================================================================\n",
      "input_16 (InputLayer)        (None, 640, 360, 3)       0         \n",
      "_________________________________________________________________\n",
      "block1_conv1 (Conv2D)        (None, 640, 360, 64)      1792      \n",
      "_________________________________________________________________\n",
      "block1_conv2 (Conv2D)        (None, 640, 360, 64)      36928     \n",
      "_________________________________________________________________\n",
      "block1_pool (MaxPooling2D)   (None, 320, 180, 64)      0         \n",
      "_________________________________________________________________\n",
      "block2_conv1 (Conv2D)        (None, 320, 180, 128)     73856     \n",
      "_________________________________________________________________\n",
      "block2_conv2 (Conv2D)        (None, 320, 180, 128)     147584    \n",
      "_________________________________________________________________\n",
      "block2_pool (MaxPooling2D)   (None, 160, 90, 128)      0         \n",
      "_________________________________________________________________\n",
      "block3_conv1 (Conv2D)        (None, 160, 90, 256)      295168    \n",
      "_________________________________________________________________\n",
      "block3_conv2 (Conv2D)        (None, 160, 90, 256)      590080    \n",
      "_________________________________________________________________\n",
      "block3_conv3 (Conv2D)        (None, 160, 90, 256)      590080    \n",
      "_________________________________________________________________\n",
      "block3_pool (MaxPooling2D)   (None, 80, 45, 256)       0         \n",
      "_________________________________________________________________\n",
      "block4_conv1 (Conv2D)        (None, 80, 45, 512)       1180160   \n",
      "_________________________________________________________________\n",
      "block4_conv2 (Conv2D)        (None, 80, 45, 512)       2359808   \n",
      "_________________________________________________________________\n",
      "block4_conv3 (Conv2D)        (None, 80, 45, 512)       2359808   \n",
      "_________________________________________________________________\n",
      "block4_pool (MaxPooling2D)   (None, 40, 22, 512)       0         \n",
      "_________________________________________________________________\n",
      "block5_conv1 (Conv2D)        (None, 40, 22, 512)       2359808   \n",
      "_________________________________________________________________\n",
      "block5_conv2 (Conv2D)        (None, 40, 22, 512)       2359808   \n",
      "_________________________________________________________________\n",
      "block5_conv3 (Conv2D)        (None, 40, 22, 512)       2359808   \n",
      "_________________________________________________________________\n",
      "block5_pool (MaxPooling2D)   (None, 20, 11, 512)       0         \n",
      "_________________________________________________________________\n",
      "global_average_pooling2d_11  (None, 512)               0         \n",
      "_________________________________________________________________\n",
      "dense_21 (Dense)             (None, 1024)              525312    \n",
      "_________________________________________________________________\n",
      "dense_22 (Dense)             (None, 17)                17425     \n",
      "=================================================================\n",
      "Total params: 15,257,425\n",
      "Trainable params: 542,737\n",
      "Non-trainable params: 14,714,688\n",
      "_________________________________________________________________\n"
     ]
    }
   ],
   "source": [
    "def load_model(path):\n",
    "    return keras.models.load_model(path)\n",
    "\n",
    "model = load_model(model_path)\n",
    "model.summary()"
   ]
  },
  {
   "cell_type": "code",
   "execution_count": 7,
   "metadata": {},
   "outputs": [
    {
     "name": "stdout",
     "output_type": "stream",
     "text": [
      ".\\dataset\\train\n",
      "Found 10231 images belonging to 17 classes.\n",
      ".\\dataset\\val\n",
      "Found 3406 images belonging to 17 classes.\n",
      ".\\dataset\\test\n",
      "Found 3406 images belonging to 17 classes.\n"
     ]
    }
   ],
   "source": [
    "# ImageDataGeneratorを生成\n",
    "def create_generator(path,\n",
    "                     target_size = (640, 360),\n",
    "                     batch_size = 1,\n",
    "                     class_mode = 'categorical'):\n",
    "    print(path)\n",
    "    dg = ImageDataGenerator(rescale=1/255.0)\n",
    "    gen = dg.flow_from_directory(path, \n",
    "                                 target_size=target_size,\n",
    "                                 batch_size=batch_size,\n",
    "                                 class_mode=class_mode,\n",
    "                                 shuffle=False)\n",
    "    return (dg, gen)\n",
    "\n",
    "(train_dg, train_gen) = create_generator(dataset_train_path, target_size=input_size, batch_size=batch_size)\n",
    "(val_dg,   val_gen)   = create_generator(dataset_val_path, target_size=input_size, batch_size=batch_size)\n",
    "(test_dg,  test_gen)  = create_generator(dataset_test_path, target_size=input_size, batch_size=batch_size)\n",
    "\n",
    "generators = [train_gen, val_gen, test_gen]"
   ]
  },
  {
   "cell_type": "code",
   "execution_count": null,
   "metadata": {},
   "outputs": [
    {
     "name": "stdout",
     "output_type": "stream",
     "text": [
      " 3862/10231 [==========>...................] - ETA: 2:15:04"
     ]
    }
   ],
   "source": [
    "predicts = [model.predict_generator(g, len(g.filenames), verbose=1) for g in generators]\n",
    "predicts"
   ]
  },
  {
   "cell_type": "code",
   "execution_count": null,
   "metadata": {},
   "outputs": [],
   "source": [
    "files = [g.filenames for g in generators]\n",
    "results = [(f, p) for f,p in zip(files, predicts)]\n",
    "results"
   ]
  }
 ],
 "metadata": {
  "kernelspec": {
   "display_name": "Python 3",
   "language": "python",
   "name": "python3"
  },
  "language_info": {
   "codemirror_mode": {
    "name": "ipython",
    "version": 3
   },
   "file_extension": ".py",
   "mimetype": "text/x-python",
   "name": "python",
   "nbconvert_exporter": "python",
   "pygments_lexer": "ipython3",
   "version": "3.5.5"
  }
 },
 "nbformat": 4,
 "nbformat_minor": 2
}
